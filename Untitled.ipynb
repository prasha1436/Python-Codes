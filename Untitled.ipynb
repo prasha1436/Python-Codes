{
 "cells": [
  {
   "cell_type": "code",
   "execution_count": 21,
   "id": "6289aec1",
   "metadata": {},
   "outputs": [],
   "source": [
    "d= {'a':22, 'c': 1, 'b':3}\n",
    "l1= d.items()\n",
    "\n"
   ]
  },
  {
   "cell_type": "code",
   "execution_count": 42,
   "id": "6b1cec35",
   "metadata": {},
   "outputs": [],
   "source": [
    "l2= sorted(d.items())"
   ]
  },
  {
   "cell_type": "code",
   "execution_count": 80,
   "id": "8648332b",
   "metadata": {},
   "outputs": [
    {
     "name": "stdout",
     "output_type": "stream",
     "text": [
      "[[22, 'a'], [3, 'b'], [1, 'c']]\n",
      "[[22, 'a'], [1, 'c'], [3, 'b']]\n",
      "[[22, 'a'], [3, 'b'], [1, 'c']]\n"
     ]
    }
   ],
   "source": [
    "tmp = list()\n",
    "for k,v in d.items():\n",
    "    tmp.append([v,k])\n",
    "\n",
    "temp= sorted(tmp, reverse=True)\n",
    "\n",
    "print(temp)\n",
    "print(tmp)\n",
    "tmp.sort(reverse=True)\n",
    "print(tmp)"
   ]
  },
  {
   "cell_type": "code",
   "execution_count": 57,
   "id": "2355b4e0",
   "metadata": {},
   "outputs": [
    {
     "name": "stdout",
     "output_type": "stream",
     "text": [
      "[('a', 22), ('b', 3)]\n"
     ]
    }
   ],
   "source": [
    "print(l2[:2])"
   ]
  },
  {
   "cell_type": "code",
   "execution_count": 58,
   "id": "b1afa02f",
   "metadata": {},
   "outputs": [
    {
     "name": "stdout",
     "output_type": "stream",
     "text": [
      "[(1, 'c'), (3, 'b'), (22, 'a')]\n"
     ]
    }
   ],
   "source": [
    "print(sorted([(v,k)for k,v in d.items()]))"
   ]
  },
  {
   "cell_type": "code",
   "execution_count": 89,
   "id": "3cc9f011",
   "metadata": {},
   "outputs": [
    {
     "name": "stdout",
     "output_type": "stream",
     "text": [
      "<class 'tuple'>\n"
     ]
    }
   ],
   "source": [
    "v1= ('mon', 'tues', 'wed')\n",
    "print(type(v1))"
   ]
  },
  {
   "cell_type": "code",
   "execution_count": 94,
   "id": "80303b37",
   "metadata": {},
   "outputs": [
    {
     "name": "stdout",
     "output_type": "stream",
     "text": [
      "tues\n"
     ]
    }
   ],
   "source": [
    "(x,y,z)= v1\n",
    "print(v1[1])"
   ]
  },
  {
   "cell_type": "code",
   "execution_count": null,
   "id": "f92e88f0",
   "metadata": {},
   "outputs": [],
   "source": [
    "fname= input('Enter your file choice:')\n",
    "fhandle= open(fname, 'r')\n",
    "count= dict()\n",
    "for l in fhandle:\n",
    "    l=l.rstrip()\n",
    "    words= l.split()\n",
    "    for k in words:\n",
    "        count[k]= count.get(k,0)+1\n",
    "\n",
    "\n",
    "print(count)        \n",
    "tmp= list()\n",
    "for k,v in count.items():\n",
    "    tmp.append(v,k)\n",
    "\n",
    "tmp= sorted(tmp, reverse=True)\n",
    "print(tmp[0:10])"
   ]
  },
  {
   "cell_type": "code",
   "execution_count": null,
   "id": "4ced9aa8",
   "metadata": {},
   "outputs": [],
   "source": []
  }
 ],
 "metadata": {
  "kernelspec": {
   "display_name": "Python 3 (ipykernel)",
   "language": "python",
   "name": "python3"
  },
  "language_info": {
   "codemirror_mode": {
    "name": "ipython",
    "version": 3
   },
   "file_extension": ".py",
   "mimetype": "text/x-python",
   "name": "python",
   "nbconvert_exporter": "python",
   "pygments_lexer": "ipython3",
   "version": "3.9.12"
  }
 },
 "nbformat": 4,
 "nbformat_minor": 5
}
